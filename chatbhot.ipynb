{
  "nbformat": 4,
  "nbformat_minor": 0,
  "metadata": {
    "colab": {
      "provenance": [],
      "mount_file_id": "1WGXzoja92Id84_tdw_4ET43iaYgoN9Rx",
      "authorship_tag": "ABX9TyNQD+6Zmvijptjv35lk3jJy",
      "include_colab_link": true
    },
    "kernelspec": {
      "name": "python3",
      "display_name": "Python 3"
    },
    "language_info": {
      "name": "python"
    }
  },
  "cells": [
    {
      "cell_type": "markdown",
      "metadata": {
        "id": "view-in-github",
        "colab_type": "text"
      },
      "source": [
        "<a href=\"https://colab.research.google.com/github/GRishitha293/codealpha_tasks/blob/main/chatbhot.ipynb\" target=\"_parent\"><img src=\"https://colab.research.google.com/assets/colab-badge.svg\" alt=\"Open In Colab\"/></a>"
      ]
    },
    {
      "cell_type": "code",
      "source": [
        "!pip install scikit-learn nltk\n"
      ],
      "metadata": {
        "id": "fBRkAbg_4RcO",
        "colab": {
          "base_uri": "https://localhost:8080/"
        },
        "outputId": "81168a13-e018-48ce-eede-201953a30a0d"
      },
      "execution_count": 2,
      "outputs": [
        {
          "output_type": "stream",
          "name": "stdout",
          "text": [
            "Requirement already satisfied: scikit-learn in /usr/local/lib/python3.11/dist-packages (1.6.1)\n",
            "Requirement already satisfied: nltk in /usr/local/lib/python3.11/dist-packages (3.9.1)\n",
            "Requirement already satisfied: numpy>=1.19.5 in /usr/local/lib/python3.11/dist-packages (from scikit-learn) (1.26.4)\n",
            "Requirement already satisfied: scipy>=1.6.0 in /usr/local/lib/python3.11/dist-packages (from scikit-learn) (1.13.1)\n",
            "Requirement already satisfied: joblib>=1.2.0 in /usr/local/lib/python3.11/dist-packages (from scikit-learn) (1.4.2)\n",
            "Requirement already satisfied: threadpoolctl>=3.1.0 in /usr/local/lib/python3.11/dist-packages (from scikit-learn) (3.5.0)\n",
            "Requirement already satisfied: click in /usr/local/lib/python3.11/dist-packages (from nltk) (8.1.8)\n",
            "Requirement already satisfied: regex>=2021.8.3 in /usr/local/lib/python3.11/dist-packages (from nltk) (2024.11.6)\n",
            "Requirement already satisfied: tqdm in /usr/local/lib/python3.11/dist-packages (from nltk) (4.67.1)\n"
          ]
        }
      ]
    },
    {
      "cell_type": "code",
      "source": [
        "intents = {\n",
        "    \"intents\": [\n",
        "        {\n",
        "            \"tag\": \"greeting\",\n",
        "            \"patterns\": [\"Hi\", \"Hello\", \"Hey\", \"Good day\", \"What's up?\", \"Howdy\"],\n",
        "            \"responses\": [\"Hello!\", \"Hi there!\", \"Greetings!\", \"Hey! How can I help you?\"]\n",
        "        },\n",
        "        {\n",
        "            \"tag\": \"goodbye\",\n",
        "            \"patterns\": [\"Bye\", \"See you\", \"Goodbye\", \"Take care\", \"Catch you later\"],\n",
        "            \"responses\": [\"Goodbye!\", \"See you later!\", \"Take care!\", \"Bye! Come back soon.\"]\n",
        "        },\n",
        "        {\n",
        "            \"tag\": \"thanks\",\n",
        "            \"patterns\": [\"Thanks\", \"Thank you\", \"That's helpful\", \"Thanks a lot\"],\n",
        "            \"responses\": [\"You're welcome!\", \"Glad to help!\", \"Anytime!\", \"No problem!\"]\n",
        "        },\n",
        "        {\n",
        "            \"tag\": \"name\",\n",
        "            \"patterns\": [\"What is your name?\", \"Who are you?\", \"Identify yourself\", \"What's your name?\"],\n",
        "            \"responses\": [\"I'm your ML Chatbot!\", \"You can call me Chatbot.\", \"I'm a simple ML-powered assistant.\"]\n",
        "        },\n",
        "        {\n",
        "            \"tag\": \"weather\",\n",
        "            \"patterns\": [\"How's the weather?\", \"Is it sunny?\", \"Will it rain today?\", \"Weather update\"],\n",
        "            \"responses\": [\"I can't give real-time weather updates yet, but it's always sunny in here!\"]\n",
        "        },\n",
        "        {\n",
        "            \"tag\": \"joke\",\n",
        "            \"patterns\": [\"Tell me a joke\", \"Make me laugh\", \"Say something funny\"],\n",
        "            \"responses\": [\"Why don’t scientists trust atoms? Because they make up everything!\",\n",
        "                          \"I'm reading a book on anti-gravity. It’s impossible to put down!\"]\n",
        "        },\n",
        "        {\n",
        "            \"tag\": \"help\",\n",
        "            \"patterns\": [\"Can you help me?\", \"I need support\", \"Help me\", \"Assist me\"],\n",
        "            \"responses\": [\"Of course! I'm here to help.\", \"Sure! What do you need assistance with?\"]\n",
        "        },\n",
        "        {\n",
        "            \"tag\": \"age\",\n",
        "            \"patterns\": [\"How old are you?\", \"What's your age?\", \"Since when do you exist?\"],\n",
        "            \"responses\": [\"I'm timeless 😄\", \"I was born when you ran this notebook!\"]\n",
        "        }\n",
        "    ]\n",
        "}\n"
      ],
      "metadata": {
        "id": "BFam3v7a6zvT"
      },
      "execution_count": 5,
      "outputs": []
    },
    {
      "cell_type": "code",
      "source": [
        "import nltk\n",
        "nltk.download('punkt')\n",
        "nltk.download('averaged_perceptron_tagger')\n"
      ],
      "metadata": {
        "colab": {
          "base_uri": "https://localhost:8080/"
        },
        "id": "WTzUPYx-7kUq",
        "outputId": "e0539189-e98e-46e9-f21e-bbf069d3647d"
      },
      "execution_count": 8,
      "outputs": [
        {
          "output_type": "stream",
          "name": "stderr",
          "text": [
            "[nltk_data] Downloading package punkt to /root/nltk_data...\n",
            "[nltk_data]   Package punkt is already up-to-date!\n",
            "[nltk_data] Downloading package averaged_perceptron_tagger to\n",
            "[nltk_data]     /root/nltk_data...\n",
            "[nltk_data]   Unzipping taggers/averaged_perceptron_tagger.zip.\n"
          ]
        },
        {
          "output_type": "execute_result",
          "data": {
            "text/plain": [
              "True"
            ]
          },
          "metadata": {},
          "execution_count": 8
        }
      ]
    },
    {
      "cell_type": "code",
      "source": [
        "import random\n",
        "import nltk\n",
        "from sklearn.feature_extraction.text import CountVectorizer\n",
        "from sklearn.naive_bayes import MultinomialNB\n",
        "from sklearn.pipeline import make_pipeline\n",
        "\n",
        "# Download NLTK data\n",
        "nltk.download('punkt')\n",
        "\n",
        "# Prepare data\n",
        "X = []\n",
        "y = []\n",
        "\n",
        "for intent in intents['intents']:\n",
        "    for pattern in intent['patterns']:\n",
        "        X.append(pattern)\n",
        "        y.append(intent['tag'])\n",
        "\n",
        "# Train model\n",
        "model = make_pipeline(CountVectorizer(), MultinomialNB())\n",
        "model.fit(X, y)\n",
        "\n",
        "# Chat function\n",
        "def chatbot_response(user_input):\n",
        "    tag = model.predict([user_input])[0]\n",
        "    for intent in intents['intents']:\n",
        "        if intent['tag'] == tag:\n",
        "            return random.choice(intent['responses'])\n",
        "\n",
        "# Simple chat loop in Colab\n",
        "while True:\n",
        "    inp = input(\"You: \")\n",
        "    if inp.lower() == 'quit':\n",
        "        print(\"Bot: Goodbye!\")\n",
        "        break\n",
        "    response = chatbot_response(inp)\n",
        "    print(\"Bot:\", response)\n"
      ],
      "metadata": {
        "colab": {
          "base_uri": "https://localhost:8080/"
        },
        "id": "VF5bgOBg7-2R",
        "outputId": "a043cc18-399b-41c8-b79b-6db9ad283f1d"
      },
      "execution_count": 12,
      "outputs": [
        {
          "output_type": "stream",
          "name": "stderr",
          "text": [
            "[nltk_data] Downloading package punkt to /root/nltk_data...\n",
            "[nltk_data]   Package punkt is already up-to-date!\n"
          ]
        },
        {
          "output_type": "stream",
          "name": "stdout",
          "text": [
            "You: hello\n",
            "Bot: Hi there!\n",
            "You: how are you?\n",
            "Bot: I was born when you ran this notebook!\n",
            "You: quit\n",
            "Bot: Goodbye!\n"
          ]
        }
      ]
    }
  ]
}